{
 "cells": [
  {
   "cell_type": "code",
   "execution_count": null,
   "id": "21a05cbf",
   "metadata": {},
   "outputs": [],
   "source": [
    "1. In the below elements which of them are values or an expression? eg:- values can be integer or string and expressions will be mathematical operators.\n",
    "\n",
    "*       expression\n",
    "\n",
    "'hello'  value\n",
    "\n",
    "-87.8    value\n",
    "\n",
    "-        expression\n",
    "\n",
    "/        expression\n",
    "\n",
    "+\t     expression\n",
    "\n",
    "6        value\n",
    "\n"
   ]
  },
  {
   "cell_type": "code",
   "execution_count": null,
   "id": "53efac1f",
   "metadata": {},
   "outputs": [],
   "source": [
    "2. What is the difference between string and variable?\n",
    "\n",
    " string is a sequence of characters enclosed within the single or double quotes.\n",
    "    \n",
    " Variable acts as a container that holds data and can be changed.\n"
   ]
  },
  {
   "cell_type": "code",
   "execution_count": null,
   "id": "4a68b2f3",
   "metadata": {},
   "outputs": [],
   "source": [
    "3. Describe three different data types.\n",
    "\n",
    "List: the list is used for storing multiple data items in a single variable.\n",
    "\n",
    "Integer: integer can store only numerical values.\n",
    "\n",
    "Float: float can store only floating values such as 45.33, 25.2, etc."
   ]
  },
  {
   "cell_type": "code",
   "execution_count": null,
   "id": "245ed87d",
   "metadata": {},
   "outputs": [],
   "source": [
    "4. What is an expression made up of? What do all expressions do?\n",
    "\n",
    "Expression is made up of values, containers, and mathematical operators (operands) \n",
    "\n",
    "For example \n",
    "\n",
    "y = 2 + 3 expressions are used to evaluate the values or represent the result on the screen."
   ]
  },
  {
   "cell_type": "code",
   "execution_count": null,
   "id": "4e5e8020",
   "metadata": {},
   "outputs": [],
   "source": [
    "5. This assignment statements, like spam = 10. What is the difference between an expression and a statement?\n",
    "\n",
    "Expression is made up of values, containers, and mathematical operators (operands) and the statement is just like a command that a python interpreter executes like print."
   ]
  },
  {
   "cell_type": "code",
   "execution_count": null,
   "id": "8a639e0e",
   "metadata": {},
   "outputs": [],
   "source": [
    "6. After running the following code, what does the variable bacon contain?\n"
   ]
  },
  {
   "cell_type": "code",
   "execution_count": 1,
   "id": "68a0d388",
   "metadata": {},
   "outputs": [
    {
     "data": {
      "text/plain": [
       "23"
      ]
     },
     "execution_count": 1,
     "metadata": {},
     "output_type": "execute_result"
    }
   ],
   "source": [
    "bacon = 22\n",
    "\n",
    "bacon + 1\n"
   ]
  },
  {
   "cell_type": "code",
   "execution_count": null,
   "id": "8afc3708",
   "metadata": {},
   "outputs": [],
   "source": [
    "7. What should the values of the following two terms be?\n"
   ]
  },
  {
   "cell_type": "code",
   "execution_count": 3,
   "id": "58092b2f",
   "metadata": {},
   "outputs": [
    {
     "data": {
      "text/plain": [
       "'spamspamspam'"
      ]
     },
     "execution_count": 3,
     "metadata": {},
     "output_type": "execute_result"
    }
   ],
   "source": [
    "'spam' + 'spamspam'\n"
   ]
  },
  {
   "cell_type": "code",
   "execution_count": 4,
   "id": "9ba1033c",
   "metadata": {},
   "outputs": [
    {
     "data": {
      "text/plain": [
       "'spamspamspam'"
      ]
     },
     "execution_count": 4,
     "metadata": {},
     "output_type": "execute_result"
    }
   ],
   "source": [
    "\n",
    "'spam' * 3\n"
   ]
  },
  {
   "cell_type": "code",
   "execution_count": null,
   "id": "c4c80248",
   "metadata": {},
   "outputs": [],
   "source": [
    "8. Why is eggs a valid variable name while 100 is invalid?\n",
    "\n",
    "variable can't be integer name. Variable name valid if it is alphanumeric like eggs100."
   ]
  },
  {
   "cell_type": "code",
   "execution_count": null,
   "id": "14702082",
   "metadata": {},
   "outputs": [],
   "source": [
    "9. What three functions can be used to get the integer, floating-point number, or string version of a value?\n",
    "\n",
    "str(), int(), float()\n"
   ]
  },
  {
   "cell_type": "code",
   "execution_count": null,
   "id": "1d62a353",
   "metadata": {},
   "outputs": [],
   "source": [
    "10. Why does this expression cause an error? How can you fix it?\n",
    "\n",
    "'I have eaten ' + 99 + ' burritos.'\n",
    "\n",
    "99 is integer. It cannot be concatenated with strings.\n",
    "\n",
    "The correct way is I have eaten ' + str(99) + ' burritos.'.\n",
    "\n"
   ]
  }
 ],
 "metadata": {
  "kernelspec": {
   "display_name": "Python 3 (ipykernel)",
   "language": "python",
   "name": "python3"
  },
  "language_info": {
   "codemirror_mode": {
    "name": "ipython",
    "version": 3
   },
   "file_extension": ".py",
   "mimetype": "text/x-python",
   "name": "python",
   "nbconvert_exporter": "python",
   "pygments_lexer": "ipython3",
   "version": "3.9.7"
  }
 },
 "nbformat": 4,
 "nbformat_minor": 5
}
