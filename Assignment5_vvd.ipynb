{
 "cells": [
  {
   "cell_type": "raw",
   "id": "acfe4236",
   "metadata": {},
   "source": [
    "1.What does an empty dictionary's code look like?"
   ]
  },
  {
   "cell_type": "raw",
   "id": "2899ecd2",
   "metadata": {},
   "source": [
    "Ans: An empty dictionary is often represented by two empty curly brackets\n",
    "d = {} or d = dict()"
   ]
  },
  {
   "cell_type": "raw",
   "id": "4d00ba52",
   "metadata": {},
   "source": [
    "2.what is the value of dictionary value with key 'foo' and the value 42 ?"
   ]
  },
  {
   "cell_type": "raw",
   "id": "0d4ea240",
   "metadata": {},
   "source": [
    "Ans: {'foo':42}"
   ]
  },
  {
   "cell_type": "raw",
   "id": "811cb45b",
   "metadata": {},
   "source": [
    "3.What is the most significant distinction between a dictionary and a list?"
   ]
  },
  {
   "cell_type": "raw",
   "id": "f552966f",
   "metadata": {},
   "source": [
    "Ans: Dictionaries are represented by {} where as listed are represented by []\n",
    "The Items stored in a dictionary are Unordered , while the items in a list are ordered"
   ]
  },
  {
   "cell_type": "raw",
   "id": "2e7b40ef",
   "metadata": {},
   "source": [
    "4.What happens if you try to access spam ['foo'] if spam is {'bar':100} ?"
   ]
  },
  {
   "cell_type": "raw",
   "id": "e59b0b2a",
   "metadata": {},
   "source": [
    "Ans: we will get a keyError KeyError: 'foo'"
   ]
  },
  {
   "cell_type": "raw",
   "id": "78a56cbd",
   "metadata": {},
   "source": [
    "5.if a dictionary is stored in spam,what is the difference between the expressions 'cat' in spam and 'cat' in spam.keys() ?"
   ]
  },
  {
   "cell_type": "raw",
   "id": "e6b5fd4b",
   "metadata": {},
   "source": [
    "Ans: There is no difference . The operator checks whether a value exits as a key in the dictionary or not"
   ]
  },
  {
   "cell_type": "raw",
   "id": "cee6ba90",
   "metadata": {},
   "source": [
    "6.if a dictionary is stored in spam,what is the difference between the expressions 'cat' in spam and 'cat' in spam.values() ?"
   ]
  },
  {
   "cell_type": "raw",
   "id": "a4f80979",
   "metadata": {},
   "source": [
    "Ans:'cat' in spam checks whether there is a 'cat' key in the dictionary, while 'cat' in spam.values() checks whether there is a value 'cat' for one of the keys in spam."
   ]
  },
  {
   "cell_type": "raw",
   "id": "d9351a41",
   "metadata": {},
   "source": [
    "7.what is a shortcut for the following code ?"
   ]
  },
  {
   "cell_type": "raw",
   "id": "c970d350",
   "metadata": {},
   "source": [
    "if 'color' not in spam:\n",
    "    spam['color'] ='black'"
   ]
  },
  {
   "cell_type": "markdown",
   "id": "41b7c0a8",
   "metadata": {},
   "source": [
    "Ans: spam.setdefault('color','black')"
   ]
  },
  {
   "cell_type": "markdown",
   "id": "da99547a",
   "metadata": {},
   "source": [
    "8.How do you 'pretty print' dictionary values using which modules and function ?"
   ]
  },
  {
   "cell_type": "code",
   "execution_count": null,
   "id": "ca76c441",
   "metadata": {},
   "outputs": [],
   "source": [
    "Ans: we can pretty print a dictionary using three functions\n",
    "\n",
    "1.by using pprint() function of pprint module\n",
    "Note: pprint() function doesnot prettify nested dictionaries\n",
    "2.by using dumps() method of json module\n",
    "3.by using dumps() method of yaml module"
   ]
  },
  {
   "cell_type": "code",
   "execution_count": 16,
   "id": "6ac936a2",
   "metadata": {},
   "outputs": [
    {
     "name": "stdout",
     "output_type": "stream",
     "text": [
      "printing using print() function\n",
      " [{'Name': 'Raju', 'Age': 15, 'Residence': {'country': 'India', 'City': 'Bangalore'}}, {'Name': 'Peter', 'Age': 25, 'Residence': {'Country': 'Uk', 'City': 'Engaland'}}, {'Name': 'John', 'Age': 27, 'Residence': {'Country': 'US', 'City': 'California'}}, {'Name': 'Cheng', 'Age': 45, 'Residence': {'Country': 'China', 'City': 'Beijing'}}]\n",
      "------------------------------------------------------------\n",
      "printing using pprint() function\n",
      "[{'Age': 15,\n",
      "  'Name': 'Raju',\n",
      "  'Residence': {'City': 'Bangalore', 'country': 'India'}},\n",
      " {'Age': 25,\n",
      "  'Name': 'Peter',\n",
      "  'Residence': {'City': 'Engaland', 'Country': 'Uk'}},\n",
      " {'Age': 27,\n",
      "  'Name': 'John',\n",
      "  'Residence': {'City': 'California', 'Country': 'US'}},\n",
      " {'Age': 45,\n",
      "  'Name': 'Cheng',\n",
      "  'Residence': {'City': 'Beijing', 'Country': 'China'}}]\n",
      "------------------------------------------------------------\n",
      "printing using dumps() method\n",
      " [\n",
      "  {\n",
      "    \"Name\": \"Raju\",\n",
      "    \"Age\": 15,\n",
      "    \"Residence\": {\n",
      "      \"country\": \"India\",\n",
      "      \"City\": \"Bangalore\"\n",
      "    }\n",
      "  },\n",
      "  {\n",
      "    \"Name\": \"Peter\",\n",
      "    \"Age\": 25,\n",
      "    \"Residence\": {\n",
      "      \"Country\": \"Uk\",\n",
      "      \"City\": \"Engaland\"\n",
      "    }\n",
      "  },\n",
      "  {\n",
      "    \"Name\": \"John\",\n",
      "    \"Age\": 27,\n",
      "    \"Residence\": {\n",
      "      \"Country\": \"US\",\n",
      "      \"City\": \"California\"\n",
      "    }\n",
      "  },\n",
      "  {\n",
      "    \"Name\": \"Cheng\",\n",
      "    \"Age\": 45,\n",
      "    \"Residence\": {\n",
      "      \"Country\": \"China\",\n",
      "      \"City\": \"Beijing\"\n",
      "    }\n",
      "  }\n",
      "]\n",
      "------------------------------------------------------------\n",
      "printing using dump() method\n",
      " - Age: 15\n",
      "  Name: Raju\n",
      "  Residence:\n",
      "    City: Bangalore\n",
      "    country: India\n",
      "- Age: 25\n",
      "  Name: Peter\n",
      "  Residence:\n",
      "    City: Engaland\n",
      "    Country: Uk\n",
      "- Age: 27\n",
      "  Name: John\n",
      "  Residence:\n",
      "    City: California\n",
      "    Country: US\n",
      "- Age: 45\n",
      "  Name: Cheng\n",
      "  Residence:\n",
      "    City: Beijing\n",
      "    Country: China\n",
      "\n"
     ]
    }
   ],
   "source": [
    "ndict = [\n",
    "    {'Name':'Raju','Age': 15, 'Residence':{'country':'India','City':'Bangalore'}},\n",
    "    {'Name':'Peter','Age': 25, 'Residence':{'Country':'Uk','City':'Engaland'}},\n",
    "    {'Name':'John','Age': 27, 'Residence':{'Country':'US','City':'California'}},\n",
    "    {'Name':'Cheng','Age': 45, 'Residence':{'Country':'China','City':'Beijing'}}]\n",
    "print('printing using print() function\\n', ndict)\n",
    "print('-'*60)\n",
    "import pprint\n",
    "print('printing using pprint() function')\n",
    "pprint.pprint(ndict)\n",
    "print('-'*60)\n",
    "import json\n",
    "dump = json.dumps(ndict, indent=2)\n",
    "print('printing using dumps() method\\n', dump)\n",
    "print('-'*60)\n",
    "import yaml\n",
    "dump = yaml.dump(ndict)\n",
    "print('printing using dump() method\\n', dump)\n"
   ]
  },
  {
   "cell_type": "code",
   "execution_count": null,
   "id": "adfdfd52",
   "metadata": {},
   "outputs": [],
   "source": []
  }
 ],
 "metadata": {
  "kernelspec": {
   "display_name": "Python 3 (ipykernel)",
   "language": "python",
   "name": "python3"
  },
  "language_info": {
   "codemirror_mode": {
    "name": "ipython",
    "version": 3
   },
   "file_extension": ".py",
   "mimetype": "text/x-python",
   "name": "python",
   "nbconvert_exporter": "python",
   "pygments_lexer": "ipython3",
   "version": "3.9.7"
  }
 },
 "nbformat": 4,
 "nbformat_minor": 5
}
